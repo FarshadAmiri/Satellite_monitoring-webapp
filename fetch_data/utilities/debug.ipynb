{
 "cells": [
  {
   "cell_type": "code",
   "execution_count": 8,
   "metadata": {},
   "outputs": [
    {
     "ename": "ImportError",
     "evalue": "attempted relative import with no known parent package",
     "output_type": "error",
     "traceback": [
      "\u001b[1;31m---------------------------------------------------------------------------\u001b[0m",
      "\u001b[1;31mImportError\u001b[0m                               Traceback (most recent call last)",
      "\u001b[1;32md:\\NLP 1\\Sattelite_monitoring-web\\fetch_data\\utilities\\debug.ipynb Cell 1\u001b[0m line \u001b[0;36m1\n\u001b[1;32m----> <a href='vscode-notebook-cell:/d%3A/NLP%201/Sattelite_monitoring-web/fetch_data/utilities/debug.ipynb#W0sZmlsZQ%3D%3D?line=0'>1</a>\u001b[0m \u001b[39mfrom\u001b[39;00m \u001b[39mimage_db\u001b[39;00m \u001b[39mimport\u001b[39;00m store_image_territory\n\u001b[0;32m      <a href='vscode-notebook-cell:/d%3A/NLP%201/Sattelite_monitoring-web/fetch_data/utilities/debug.ipynb#W0sZmlsZQ%3D%3D?line=1'>2</a>\u001b[0m \u001b[39mfrom\u001b[39;00m \u001b[39mtools\u001b[39;00m \u001b[39mimport\u001b[39;00m start_end_time_interpreter\n",
      "File \u001b[1;32md:\\NLP 1\\Sattelite_monitoring-web\\fetch_data\\utilities\\image_db.py:7\u001b[0m\n\u001b[0;32m      5\u001b[0m \u001b[39mfrom\u001b[39;00m \u001b[39mPIL\u001b[39;00m \u001b[39mimport\u001b[39;00m Image\n\u001b[0;32m      6\u001b[0m \u001b[39mimport\u001b[39;00m \u001b[39mnumpy\u001b[39;00m \u001b[39mas\u001b[39;00m \u001b[39mnp\u001b[39;00m\n\u001b[1;32m----> 7\u001b[0m \u001b[39mfrom\u001b[39;00m \u001b[39m.\u001b[39;00m\u001b[39msentinel_api\u001b[39;00m \u001b[39mimport\u001b[39;00m sentinel_query\n\u001b[0;32m      8\u001b[0m \u001b[39mfrom\u001b[39;00m \u001b[39m.\u001b[39;00m\u001b[39mtools\u001b[39;00m \u001b[39mimport\u001b[39;00m start_end_time_interpreter, xyz2bbox\n\u001b[0;32m      9\u001b[0m \u001b[39mfrom\u001b[39;00m \u001b[39m.\u001b[39;00m\u001b[39minference_modular\u001b[39;00m \u001b[39mimport\u001b[39;00m ship_detection\n",
      "\u001b[1;31mImportError\u001b[0m: attempted relative import with no known parent package"
     ]
    }
   ],
   "source": [
    "from image_db import store_image_territory\n",
    "from tools import start_end_time_interpreter"
   ]
  },
  {
   "cell_type": "code",
   "execution_count": 9,
   "metadata": {},
   "outputs": [
    {
     "name": "stdout",
     "output_type": "stream",
     "text": [
      "real horizontal length of each image on the globe:  520.5879929650948\n",
      "real vertical length of each image on the globe:    520.6855368579271\n",
      "longitude difference in each 256*256 image:  0.02197265625\n",
      "latitude difference in each 256*256 image:   0.004682637531857381\n"
     ]
    }
   ],
   "source": [
    "from tools import xyz2bbox, haversine_distance\n",
    "\n",
    "# coord_1 = xyz2bbox((21390, 14000, 14))\n",
    "coord_1 = xyz2bbox((21390, 14000, 14)) # tweak with y from 0 to 45138- why??\n",
    "lon1, lat1, lon2, lat2 = coord_1[0], coord_1[1], coord_1[2],  coord_1[3]\n",
    "print(\"real horizontal length of each image on the globe: \",haversine_distance(lon1, lat1, lon2, lat1))\n",
    "print(\"real vertical length of each image on the globe:   \",haversine_distance(lon1, lat1, lon1, lat2))\n",
    "\n",
    "print(\"longitude difference in each 256*256 image: \",coord_1[2] - coord_1[0])\n",
    "print(\"latitude difference in each 256*256 image:  \",coord_1[3] - coord_1[1])"
   ]
  },
  {
   "cell_type": "code",
   "execution_count": 14,
   "metadata": {},
   "outputs": [
    {
     "data": {
      "text/plain": [
       "(90.0, -89.53806609714827, 90.010986328125, -89.53797751489915)"
      ]
     },
     "execution_count": 14,
     "metadata": {},
     "output_type": "execute_result"
    }
   ],
   "source": [
    "xyz2bbox((24576, 45138, 14))"
   ]
  },
  {
   "cell_type": "code",
   "execution_count": 15,
   "metadata": {},
   "outputs": [
    {
     "name": "stdout",
     "output_type": "stream",
     "text": [
      "(54.99755859375, 25.01592876336786, 55.008544921875, 25.02588406324483)\n",
      "(54.99755859375, 24.966140159912957, 55.008544921875, 24.9760994936954)\n",
      "(55.107421875, 25.01592876336786, 55.118408203125, 25.02588406324483)\n",
      "(55.107421875, 24.966140159912957, 55.118408203125, 24.9760994936954)\n"
     ]
    }
   ],
   "source": [
    "x_range = [21390, 21400]\n",
    "y_range = [14030, 14035]\n",
    "print(xyz2bbox((21390, 14030, 15))) #0: lon1  3:lat2\n",
    "print(xyz2bbox((21390, 14035, 15))) #0: lon1  1:lat1\n",
    "print(xyz2bbox((21400, 14030, 15))) #2: lon2  3:lat2\n",
    "print(xyz2bbox((21400, 14035, 15))) #2: lon2  1:lat1"
   ]
  },
  {
   "cell_type": "code",
   "execution_count": null,
   "metadata": {},
   "outputs": [],
   "source": []
  },
  {
   "cell_type": "code",
   "execution_count": null,
   "metadata": {},
   "outputs": [],
   "source": [
    "from fetch_data.utility_image_db import store_image_territory\n",
    "x_range = [21390, 21400]\n",
    "y_range = [14030, 14035]\n",
    "zoom = 15\n",
    "store_image_territory(x_range, y_range, zoom, start=None, end=None, n_days_before_base_date=14, base_date=None,\n",
    "                          overwrite_repetitious=True, image_store_path=\"D:\\SatteliteImages_db\")"
   ]
  },
  {
   "cell_type": "code",
   "execution_count": 3,
   "metadata": {},
   "outputs": [
    {
     "data": {
      "text/plain": [
       "[[[(2500, 2555), (3700, 3753)],\n",
       "  [(2555, 2610), (3700, 3753)],\n",
       "  [(2610, 2665), (3700, 3753)],\n",
       "  [(2665, 2720), (3700, 3753)],\n",
       "  [(2720, 2775), (3700, 3753)],\n",
       "  [(2775, 2830), (3700, 3753)]],\n",
       " [[(2500, 2555), (3753, 3806)],\n",
       "  [(2555, 2610), (3753, 3806)],\n",
       "  [(2610, 2665), (3753, 3806)],\n",
       "  [(2665, 2720), (3753, 3806)],\n",
       "  [(2720, 2775), (3753, 3806)],\n",
       "  [(2775, 2830), (3753, 3806)]],\n",
       " [[(2500, 2555), (3806, 3859)],\n",
       "  [(2555, 2610), (3806, 3859)],\n",
       "  [(2610, 2665), (3806, 3859)],\n",
       "  [(2665, 2720), (3806, 3859)],\n",
       "  [(2720, 2775), (3806, 3859)],\n",
       "  [(2775, 2830), (3806, 3859)]],\n",
       " [[(2500, 2555), (3859, 3912)],\n",
       "  [(2555, 2610), (3859, 3912)],\n",
       "  [(2610, 2665), (3859, 3912)],\n",
       "  [(2665, 2720), (3859, 3912)],\n",
       "  [(2720, 2775), (3859, 3912)],\n",
       "  [(2775, 2830), (3859, 3912)]],\n",
       " [[(2500, 2555), (3912, 3965)],\n",
       "  [(2555, 2610), (3912, 3965)],\n",
       "  [(2610, 2665), (3912, 3965)],\n",
       "  [(2665, 2720), (3912, 3965)],\n",
       "  [(2720, 2775), (3912, 3965)],\n",
       "  [(2775, 2830), (3912, 3965)]]]"
      ]
     },
     "execution_count": 3,
     "metadata": {},
     "output_type": "execute_result"
    }
   ],
   "source": [
    "from utility_tools import haversine_distance, xyz2bbox, territory_divider\n",
    "\n",
    "tr = territory_divider(x_range=(2500,2830), y_range=(3700, 3965), piece_size=70)\n",
    "tr"
   ]
  },
  {
   "cell_type": "code",
   "execution_count": 3,
   "metadata": {},
   "outputs": [
    {
     "ename": "ImproperlyConfigured",
     "evalue": "Requested setting INSTALLED_APPS, but settings are not configured. You must either define the environment variable DJANGO_SETTINGS_MODULE or call settings.configure() before accessing settings.",
     "output_type": "error",
     "traceback": [
      "\u001b[1;31m---------------------------------------------------------------------------\u001b[0m",
      "\u001b[1;31mImproperlyConfigured\u001b[0m                      Traceback (most recent call last)",
      "\u001b[1;32md:\\NLP 1\\Sattelite_monitoring-web\\fetch_data\\debug.ipynb Cell 11\u001b[0m line \u001b[0;36m1\n\u001b[1;32m----> <a href='vscode-notebook-cell:/d%3A/NLP%201/Sattelite_monitoring-web/fetch_data/debug.ipynb#X15sZmlsZQ%3D%3D?line=0'>1</a>\u001b[0m \u001b[39mfrom\u001b[39;00m \u001b[39mutility_image_db\u001b[39;00m \u001b[39mimport\u001b[39;00m concat_image\n\u001b[0;32m      <a href='vscode-notebook-cell:/d%3A/NLP%201/Sattelite_monitoring-web/fetch_data/debug.ipynb#X15sZmlsZQ%3D%3D?line=1'>2</a>\u001b[0m concat_image((\u001b[39m21370\u001b[39m, \u001b[39m21395\u001b[39m), (\u001b[39m14030\u001b[39m, \u001b[39m14050\u001b[39m), start\u001b[39m=\u001b[39m\u001b[39m\"\u001b[39m\u001b[39m2023-11-07\u001b[39m\u001b[39m\"\u001b[39m, end\u001b[39m=\u001b[39m\u001b[39m\"\u001b[39m\u001b[39m2023-10-24\u001b[39m\u001b[39m\"\u001b[39m)\n",
      "File \u001b[1;32md:\\NLP 1\\Sattelite_monitoring-web\\fetch_data\\utility_image_db.py:9\u001b[0m\n\u001b[0;32m      7\u001b[0m \u001b[39mfrom\u001b[39;00m \u001b[39mutility_sentinel_api\u001b[39;00m \u001b[39mimport\u001b[39;00m sentinel_query\n\u001b[0;32m      8\u001b[0m \u001b[39mfrom\u001b[39;00m \u001b[39mutility_tools\u001b[39;00m \u001b[39mimport\u001b[39;00m start_end_time_interpreter, xyz2bbox\n\u001b[1;32m----> 9\u001b[0m \u001b[39mfrom\u001b[39;00m \u001b[39mmodels\u001b[39;00m \u001b[39mimport\u001b[39;00m SatteliteImage\n\u001b[0;32m     11\u001b[0m image_store_path \u001b[39m=\u001b[39m \u001b[39mr\u001b[39m\u001b[39m\"\u001b[39m\u001b[39mD:\u001b[39m\u001b[39m\\\u001b[39m\u001b[39mSatteliteImages_db\u001b[39m\u001b[39m\"\u001b[39m\n\u001b[0;32m     13\u001b[0m \u001b[39mdef\u001b[39;00m \u001b[39mstore_image\u001b[39m(x, y, zoom, start\u001b[39m=\u001b[39m\u001b[39mNone\u001b[39;00m, end\u001b[39m=\u001b[39m\u001b[39mNone\u001b[39;00m, n_days_before_date\u001b[39m=\u001b[39m\u001b[39mNone\u001b[39;00m, date\u001b[39m=\u001b[39m\u001b[39mNone\u001b[39;00m):\n",
      "File \u001b[1;32md:\\NLP 1\\Sattelite_monitoring-web\\fetch_data\\models.py:5\u001b[0m\n\u001b[0;32m      2\u001b[0m \u001b[39mfrom\u001b[39;00m \u001b[39mdjango\u001b[39;00m\u001b[39m.\u001b[39;00m\u001b[39mcore\u001b[39;00m\u001b[39m.\u001b[39;00m\u001b[39mvalidators\u001b[39;00m \u001b[39mimport\u001b[39;00m MaxValueValidator, MinValueValidator\n\u001b[0;32m      3\u001b[0m \u001b[39mfrom\u001b[39;00m \u001b[39mutility_tools\u001b[39;00m \u001b[39mimport\u001b[39;00m xyz2bbox\n\u001b[1;32m----> 5\u001b[0m \u001b[39mclass\u001b[39;49;00m \u001b[39mPresetArea\u001b[39;49;00m(models\u001b[39m.\u001b[39;49mModel):\n\u001b[0;32m      6\u001b[0m     bbox_lon1 \u001b[39m=\u001b[39;49m models\u001b[39m.\u001b[39;49mFloatField(null\u001b[39m=\u001b[39;49m\u001b[39mTrue\u001b[39;49;00m, blank\u001b[39m=\u001b[39;49m\u001b[39mTrue\u001b[39;49;00m)\n\u001b[0;32m      7\u001b[0m     bbox_lat1 \u001b[39m=\u001b[39;49m models\u001b[39m.\u001b[39;49mFloatField(null\u001b[39m=\u001b[39;49m\u001b[39mTrue\u001b[39;49;00m, blank\u001b[39m=\u001b[39;49m\u001b[39mTrue\u001b[39;49;00m)\n",
      "File \u001b[1;32mD:\\NLP 1\\venv\\Lib\\site-packages\\django\\db\\models\\base.py:129\u001b[0m, in \u001b[0;36mModelBase.__new__\u001b[1;34m(cls, name, bases, attrs, **kwargs)\u001b[0m\n\u001b[0;32m    126\u001b[0m app_label \u001b[39m=\u001b[39m \u001b[39mNone\u001b[39;00m\n\u001b[0;32m    128\u001b[0m \u001b[39m# Look for an application configuration to attach the model to.\u001b[39;00m\n\u001b[1;32m--> 129\u001b[0m app_config \u001b[39m=\u001b[39m apps\u001b[39m.\u001b[39;49mget_containing_app_config(module)\n\u001b[0;32m    131\u001b[0m \u001b[39mif\u001b[39;00m \u001b[39mgetattr\u001b[39m(meta, \u001b[39m\"\u001b[39m\u001b[39mapp_label\u001b[39m\u001b[39m\"\u001b[39m, \u001b[39mNone\u001b[39;00m) \u001b[39mis\u001b[39;00m \u001b[39mNone\u001b[39;00m:\n\u001b[0;32m    132\u001b[0m     \u001b[39mif\u001b[39;00m app_config \u001b[39mis\u001b[39;00m \u001b[39mNone\u001b[39;00m:\n",
      "File \u001b[1;32mD:\\NLP 1\\venv\\Lib\\site-packages\\django\\apps\\registry.py:260\u001b[0m, in \u001b[0;36mApps.get_containing_app_config\u001b[1;34m(self, object_name)\u001b[0m\n\u001b[0;32m    251\u001b[0m \u001b[39mdef\u001b[39;00m \u001b[39mget_containing_app_config\u001b[39m(\u001b[39mself\u001b[39m, object_name):\n\u001b[0;32m    252\u001b[0m \u001b[39m    \u001b[39m\u001b[39m\"\"\"\u001b[39;00m\n\u001b[0;32m    253\u001b[0m \u001b[39m    Look for an app config containing a given object.\u001b[39;00m\n\u001b[0;32m    254\u001b[0m \n\u001b[1;32m   (...)\u001b[0m\n\u001b[0;32m    258\u001b[0m \u001b[39m    Return None if the object isn't in any registered app config.\u001b[39;00m\n\u001b[0;32m    259\u001b[0m \u001b[39m    \"\"\"\u001b[39;00m\n\u001b[1;32m--> 260\u001b[0m     \u001b[39mself\u001b[39;49m\u001b[39m.\u001b[39;49mcheck_apps_ready()\n\u001b[0;32m    261\u001b[0m     candidates \u001b[39m=\u001b[39m []\n\u001b[0;32m    262\u001b[0m     \u001b[39mfor\u001b[39;00m app_config \u001b[39min\u001b[39;00m \u001b[39mself\u001b[39m\u001b[39m.\u001b[39mapp_configs\u001b[39m.\u001b[39mvalues():\n",
      "File \u001b[1;32mD:\\NLP 1\\venv\\Lib\\site-packages\\django\\apps\\registry.py:137\u001b[0m, in \u001b[0;36mApps.check_apps_ready\u001b[1;34m(self)\u001b[0m\n\u001b[0;32m    132\u001b[0m \u001b[39mfrom\u001b[39;00m \u001b[39mdjango\u001b[39;00m\u001b[39m.\u001b[39;00m\u001b[39mconf\u001b[39;00m \u001b[39mimport\u001b[39;00m settings\n\u001b[0;32m    134\u001b[0m \u001b[39m# If \"not ready\" is due to unconfigured settings, accessing\u001b[39;00m\n\u001b[0;32m    135\u001b[0m \u001b[39m# INSTALLED_APPS raises a more helpful ImproperlyConfigured\u001b[39;00m\n\u001b[0;32m    136\u001b[0m \u001b[39m# exception.\u001b[39;00m\n\u001b[1;32m--> 137\u001b[0m settings\u001b[39m.\u001b[39;49mINSTALLED_APPS\n\u001b[0;32m    138\u001b[0m \u001b[39mraise\u001b[39;00m AppRegistryNotReady(\u001b[39m\"\u001b[39m\u001b[39mApps aren\u001b[39m\u001b[39m'\u001b[39m\u001b[39mt loaded yet.\u001b[39m\u001b[39m\"\u001b[39m)\n",
      "File \u001b[1;32mD:\\NLP 1\\venv\\Lib\\site-packages\\django\\conf\\__init__.py:102\u001b[0m, in \u001b[0;36mLazySettings.__getattr__\u001b[1;34m(self, name)\u001b[0m\n\u001b[0;32m    100\u001b[0m \u001b[39m\u001b[39m\u001b[39m\"\"\"Return the value of a setting and cache it in self.__dict__.\"\"\"\u001b[39;00m\n\u001b[0;32m    101\u001b[0m \u001b[39mif\u001b[39;00m (_wrapped \u001b[39m:=\u001b[39m \u001b[39mself\u001b[39m\u001b[39m.\u001b[39m_wrapped) \u001b[39mis\u001b[39;00m empty:\n\u001b[1;32m--> 102\u001b[0m     \u001b[39mself\u001b[39;49m\u001b[39m.\u001b[39;49m_setup(name)\n\u001b[0;32m    103\u001b[0m     _wrapped \u001b[39m=\u001b[39m \u001b[39mself\u001b[39m\u001b[39m.\u001b[39m_wrapped\n\u001b[0;32m    104\u001b[0m val \u001b[39m=\u001b[39m \u001b[39mgetattr\u001b[39m(_wrapped, name)\n",
      "File \u001b[1;32mD:\\NLP 1\\venv\\Lib\\site-packages\\django\\conf\\__init__.py:82\u001b[0m, in \u001b[0;36mLazySettings._setup\u001b[1;34m(self, name)\u001b[0m\n\u001b[0;32m     80\u001b[0m \u001b[39mif\u001b[39;00m \u001b[39mnot\u001b[39;00m settings_module:\n\u001b[0;32m     81\u001b[0m     desc \u001b[39m=\u001b[39m (\u001b[39m\"\u001b[39m\u001b[39msetting \u001b[39m\u001b[39m%s\u001b[39;00m\u001b[39m\"\u001b[39m \u001b[39m%\u001b[39m name) \u001b[39mif\u001b[39;00m name \u001b[39melse\u001b[39;00m \u001b[39m\"\u001b[39m\u001b[39msettings\u001b[39m\u001b[39m\"\u001b[39m\n\u001b[1;32m---> 82\u001b[0m     \u001b[39mraise\u001b[39;00m ImproperlyConfigured(\n\u001b[0;32m     83\u001b[0m         \u001b[39m\"\u001b[39m\u001b[39mRequested \u001b[39m\u001b[39m%s\u001b[39;00m\u001b[39m, but settings are not configured. \u001b[39m\u001b[39m\"\u001b[39m\n\u001b[0;32m     84\u001b[0m         \u001b[39m\"\u001b[39m\u001b[39mYou must either define the environment variable \u001b[39m\u001b[39m%s\u001b[39;00m\u001b[39m \u001b[39m\u001b[39m\"\u001b[39m\n\u001b[0;32m     85\u001b[0m         \u001b[39m\"\u001b[39m\u001b[39mor call settings.configure() before accessing settings.\u001b[39m\u001b[39m\"\u001b[39m\n\u001b[0;32m     86\u001b[0m         \u001b[39m%\u001b[39m (desc, ENVIRONMENT_VARIABLE)\n\u001b[0;32m     87\u001b[0m     )\n\u001b[0;32m     89\u001b[0m \u001b[39mself\u001b[39m\u001b[39m.\u001b[39m_wrapped \u001b[39m=\u001b[39m Settings(settings_module)\n",
      "\u001b[1;31mImproperlyConfigured\u001b[0m: Requested setting INSTALLED_APPS, but settings are not configured. You must either define the environment variable DJANGO_SETTINGS_MODULE or call settings.configure() before accessing settings."
     ]
    }
   ],
   "source": [
    "from fetch_data.utility_image_db import concat_image\n",
    "concat_image((21370, 21395), (14030, 14050), zoom=15, start=\"2023-11-07\", end=\"2023-10-24\")"
   ]
  },
  {
   "cell_type": "code",
   "execution_count": 8,
   "metadata": {},
   "outputs": [],
   "source": [
    "ships_data =  {1: {'long_lat': (58.791703741891, 23.652581096831), 'length' : 567.2},\n",
    "  2: {'long_lat': (58.864321027483, 23.624621250516), 'length': 809.3},\n",
    "  3: {'long_lat': (58.896555927822, 23.625272600991), 'length': 861.6},\n",
    "  4: {'long_lat': (58.863409060524, 23.619188388189), 'length': 751.4},\n",
    "  5: {'long_lat': (58.745149603344, 23.729329944792), 'length': 277.5},\n",
    "  6: {'long_lat': (58.806760524568, 23.656494603838), 'length': 227.7}}"
   ]
  },
  {
   "cell_type": "code",
   "execution_count": 11,
   "metadata": {},
   "outputs": [
    {
     "name": "stdout",
     "output_type": "stream",
     "text": [
      "1\n",
      "{'long_lat': (58.791703741891, 23.652581096831), 'length': 567.2}\n",
      "2\n",
      "{'long_lat': (58.864321027483, 23.624621250516), 'length': 809.3}\n",
      "3\n",
      "{'long_lat': (58.896555927822, 23.625272600991), 'length': 861.6}\n",
      "4\n",
      "{'long_lat': (58.863409060524, 23.619188388189), 'length': 751.4}\n",
      "5\n",
      "{'long_lat': (58.745149603344, 23.729329944792), 'length': 277.5}\n",
      "6\n",
      "{'long_lat': (58.806760524568, 23.656494603838), 'length': 227.7}\n"
     ]
    }
   ],
   "source": [
    "for obj, data in ships_data.items():\n",
    "    print(obj)\n",
    "    print(data)"
   ]
  },
  {
   "cell_type": "code",
   "execution_count": null,
   "metadata": {},
   "outputs": [],
   "source": []
  }
 ],
 "metadata": {
  "kernelspec": {
   "display_name": "Python 3 (ipykernel)",
   "language": "python",
   "name": "python3"
  },
  "language_info": {
   "codemirror_mode": {
    "name": "ipython",
    "version": 3
   },
   "file_extension": ".py",
   "mimetype": "text/x-python",
   "name": "python",
   "nbconvert_exporter": "python",
   "pygments_lexer": "ipython3",
   "version": "3.11.4"
  }
 },
 "nbformat": 4,
 "nbformat_minor": 2
}
