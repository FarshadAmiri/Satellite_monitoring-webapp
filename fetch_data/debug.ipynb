{
 "cells": [
  {
   "cell_type": "code",
   "execution_count": null,
   "metadata": {},
   "outputs": [],
   "source": [
    "from fetch_data.utility_image_db import store_image_territory\n",
    "from utility_tools import start_end_time_interpreter"
   ]
  },
  {
   "cell_type": "code",
   "execution_count": 58,
   "metadata": {},
   "outputs": [
    {
     "name": "stdout",
     "output_type": "stream",
     "text": [
      "real horizontal length of each image on the globe:  520.5879929650948\n",
      "real vertical length of each image on the globe:    520.6855368579271\n",
      "longitude difference in each 256*256 image:  0.02197265625\n",
      "latitude difference in each 256*256 image:   0.004682637531857381\n"
     ]
    }
   ],
   "source": [
    "from utility_tools import xyz2bbox, haversine_distance\n",
    "\n",
    "# coord_1 = xyz2bbox((21390, 14000, 14))\n",
    "coord_1 = xyz2bbox((21390, 14000, 14)) # tweak with y from 0 to 45138- why??\n",
    "lon1, lat1, lon2, lat2 = coord_1[0], coord_1[1], coord_1[2],  coord_1[3]\n",
    "print(\"real horizontal length of each image on the globe: \",haversine_distance(lon1, lat1, lon2, lat1))\n",
    "print(\"real vertical length of each image on the globe:   \",haversine_distance(lon1, lat1, lon1, lat2))\n",
    "\n",
    "print(\"longitude difference in each 256*256 image: \",coord_1[2] - coord_1[0])\n",
    "print(\"latitude difference in each 256*256 image:  \",coord_1[3] - coord_1[1])"
   ]
  },
  {
   "cell_type": "code",
   "execution_count": 34,
   "metadata": {},
   "outputs": [
    {
     "data": {
      "text/plain": [
       "(360.0, -89.99991952974113, 360.02197265625, -89.99991949887526)"
      ]
     },
     "execution_count": 34,
     "metadata": {},
     "output_type": "execute_result"
    }
   ],
   "source": [
    "xyz2bbox((24576, 45138, 14))"
   ]
  },
  {
   "cell_type": "code",
   "execution_count": null,
   "metadata": {},
   "outputs": [],
   "source": [
    "from fetch_data.utility_image_db import store_image_territory\n",
    "x_range = [21390, 21400]\n",
    "y_range = [14030, 14035]\n",
    "zoom = 15\n",
    "store_image_territory(x_range, y_range, zoom, start=None, end=None, n_days_before_base_date=14, base_date=None,\n",
    "                          overwrite_repetitious=True, image_store_path=\"D:\\SatteliteImages_db\")"
   ]
  },
  {
   "cell_type": "code",
   "execution_count": null,
   "metadata": {},
   "outputs": [],
   "source": [
    "def bbox_divide(bbox, lon_step=0.05, lat_step=0.05):\n",
    "    m = str(lon_step)[::-1].find('.')\n",
    "    lon1_ref, lat1_ref, lon2_ref, lat2_ref = bbox\n",
    "    h_bbox = lat2_ref - lat1_ref\n",
    "    w_bbox = lon2_ref - lon1_ref\n",
    "    lon_no_steps = int(w_bbox//lon_step) + 1\n",
    "    lat_no_steps = int(h_bbox//lat_step) + 1\n",
    "    bboxes = []\n",
    "    for h_partition in range(lat_no_steps):\n",
    "        lat1 = lat1_ref + h_partition * lat_step\n",
    "        lat2 = lat1 + lat_step\n",
    "        lat1, lat2 = map(lambda x: round(x, m), [lat1, lat2])\n",
    "        bboxes_row = []\n",
    "        for w_partition in range(lon_no_steps):\n",
    "            lon1 = lon1_ref + w_partition * lon_step\n",
    "            lon2 = lon1 + lon_step\n",
    "            lon1, lon2 = map(lambda x: round(x, m), [lon1, lon2])\n",
    "            bboxes_row.append([lon1, lat1, lon2, lat2])\n",
    "        bboxes.append(bboxes_row)\n",
    "    return bboxes"
   ]
  },
  {
   "cell_type": "code",
   "execution_count": 23,
   "metadata": {},
   "outputs": [
    {
     "data": {
      "text/plain": [
       "[[[(2500, 2555), (3700, 3753)],\n",
       "  [(2555, 2610), (3700, 3753)],\n",
       "  [(2610, 2665), (3700, 3753)],\n",
       "  [(2665, 2720), (3700, 3753)],\n",
       "  [(2720, 2775), (3700, 3753)],\n",
       "  [(2775, 2830), (3700, 3753)]],\n",
       " [[(2500, 2555), (3753, 3806)],\n",
       "  [(2555, 2610), (3753, 3806)],\n",
       "  [(2610, 2665), (3753, 3806)],\n",
       "  [(2665, 2720), (3753, 3806)],\n",
       "  [(2720, 2775), (3753, 3806)],\n",
       "  [(2775, 2830), (3753, 3806)]],\n",
       " [[(2500, 2555), (3806, 3859)],\n",
       "  [(2555, 2610), (3806, 3859)],\n",
       "  [(2610, 2665), (3806, 3859)],\n",
       "  [(2665, 2720), (3806, 3859)],\n",
       "  [(2720, 2775), (3806, 3859)],\n",
       "  [(2775, 2830), (3806, 3859)]],\n",
       " [[(2500, 2555), (3859, 3912)],\n",
       "  [(2555, 2610), (3859, 3912)],\n",
       "  [(2610, 2665), (3859, 3912)],\n",
       "  [(2665, 2720), (3859, 3912)],\n",
       "  [(2720, 2775), (3859, 3912)],\n",
       "  [(2775, 2830), (3859, 3912)]],\n",
       " [[(2500, 2555), (3912, 3965)],\n",
       "  [(2555, 2610), (3912, 3965)],\n",
       "  [(2610, 2665), (3912, 3965)],\n",
       "  [(2665, 2720), (3912, 3965)],\n",
       "  [(2720, 2775), (3912, 3965)],\n",
       "  [(2775, 2830), (3912, 3965)]]]"
      ]
     },
     "execution_count": 23,
     "metadata": {},
     "output_type": "execute_result"
    }
   ],
   "source": [
    "from utility_tools  import haversine_distance, xyz2bbox, territory_divider\n",
    "\n",
    "territory_divider(x_range=(2500,2830), y_range=(3700, 3965), zoom=15, piece_size=70)"
   ]
  },
  {
   "cell_type": "code",
   "execution_count": null,
   "metadata": {},
   "outputs": [],
   "source": []
  }
 ],
 "metadata": {
  "kernelspec": {
   "display_name": "Python 3 (ipykernel)",
   "language": "python",
   "name": "python3"
  },
  "language_info": {
   "codemirror_mode": {
    "name": "ipython",
    "version": 3
   },
   "file_extension": ".py",
   "mimetype": "text/x-python",
   "name": "python",
   "nbconvert_exporter": "python",
   "pygments_lexer": "ipython3",
   "version": "3.11.4"
  }
 },
 "nbformat": 4,
 "nbformat_minor": 2
}
