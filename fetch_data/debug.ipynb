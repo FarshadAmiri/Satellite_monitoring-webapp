{
 "cells": [
  {
   "cell_type": "code",
   "execution_count": null,
   "metadata": {},
   "outputs": [],
   "source": [
    "from fetch_data.utility_image_db import store_image_territory\n",
    "from utility_tools import start_end_time_interpreter"
   ]
  },
  {
   "cell_type": "code",
   "execution_count": null,
   "metadata": {},
   "outputs": [],
   "source": [
    "from fetch_data.utility_image_db import store_image_territory\n",
    "x_range = [21390, 21400]\n",
    "y_range = [14030, 14035]\n",
    "zoom = 15\n",
    "store_image_territory(x_range, y_range, zoom, start=None, end=None, n_days_before_base_date=14, base_date=None,\n",
    "                          overwrite_repetitious=True, image_store_path=\"D:\\SatteliteImages_db\")"
   ]
  }
 ],
 "metadata": {
  "kernelspec": {
   "display_name": "Python 3 (ipykernel)",
   "language": "python",
   "name": "python3"
  },
  "language_info": {
   "codemirror_mode": {
    "name": "ipython",
    "version": 3
   },
   "file_extension": ".py",
   "mimetype": "text/x-python",
   "name": "python",
   "nbconvert_exporter": "python",
   "pygments_lexer": "ipython3",
   "version": "3.11.4"
  }
 },
 "nbformat": 4,
 "nbformat_minor": 2
}
