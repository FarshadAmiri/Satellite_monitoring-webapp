{
 "cells": [
  {
   "cell_type": "code",
   "execution_count": null,
   "metadata": {},
   "outputs": [],
   "source": [
    "from fetch_data.utility_image_db import store_image_territory\n",
    "from utility_tools import start_end_time_interpreter"
   ]
  },
  {
   "cell_type": "code",
   "execution_count": 58,
   "metadata": {},
   "outputs": [
    {
     "name": "stdout",
     "output_type": "stream",
     "text": [
      "real horizontal length of each image on the globe:  520.5879929650948\n",
      "real vertical length of each image on the globe:    520.6855368579271\n",
      "longitude difference in each 256*256 image:  0.02197265625\n",
      "latitude difference in each 256*256 image:   0.004682637531857381\n"
     ]
    }
   ],
   "source": [
    "from utility_tools import xyz2bbox, haversine_distance\n",
    "\n",
    "# coord_1 = xyz2bbox((21390, 14000, 14))\n",
    "coord_1 = xyz2bbox((21390, 14000, 14)) # tweak with y from 0 to 45138- why??\n",
    "lon1, lat1, lon2, lat2 = coord_1[0], coord_1[1], coord_1[2],  coord_1[3]\n",
    "print(\"real horizontal length of each image on the globe: \",haversine_distance(lon1, lat1, lon2, lat1))\n",
    "print(\"real vertical length of each image on the globe:   \",haversine_distance(lon1, lat1, lon1, lat2))\n",
    "\n",
    "print(\"longitude difference in each 256*256 image: \",coord_1[2] - coord_1[0])\n",
    "print(\"latitude difference in each 256*256 image:  \",coord_1[3] - coord_1[1])"
   ]
  },
  {
   "cell_type": "code",
   "execution_count": 34,
   "metadata": {},
   "outputs": [
    {
     "data": {
      "text/plain": [
       "(360.0, -89.99991952974113, 360.02197265625, -89.99991949887526)"
      ]
     },
     "execution_count": 34,
     "metadata": {},
     "output_type": "execute_result"
    }
   ],
   "source": [
    "xyz2bbox((24576, 45138, 14))"
   ]
  },
  {
   "cell_type": "code",
   "execution_count": null,
   "metadata": {},
   "outputs": [],
   "source": [
    "from fetch_data.utility_image_db import store_image_territory\n",
    "x_range = [21390, 21400]\n",
    "y_range = [14030, 14035]\n",
    "zoom = 15\n",
    "store_image_territory(x_range, y_range, zoom, start=None, end=None, n_days_before_base_date=14, base_date=None,\n",
    "                          overwrite_repetitious=True, image_store_path=\"D:\\SatteliteImages_db\")"
   ]
  }
 ],
 "metadata": {
  "kernelspec": {
   "display_name": "Python 3 (ipykernel)",
   "language": "python",
   "name": "python3"
  }
 },
 "nbformat": 4,
 "nbformat_minor": 2
}
